{
 "cells": [
  {
   "cell_type": "code",
   "execution_count": 2,
   "metadata": {},
   "outputs": [
    {
     "name": "stdout",
     "output_type": "stream",
     "text": [
      "fu\n"
     ]
    }
   ],
   "source": [
    "print(\"Python is fun\"[-3:-1])"
   ]
  },
  {
   "cell_type": "code",
   "execution_count": 10,
   "metadata": {},
   "outputs": [
    {
     "name": "stdout",
     "output_type": "stream",
     "text": [
      "enter your age: 150\n",
      "how is that possible?\n"
     ]
    }
   ],
   "source": [
    "def age_foo(age):\n",
    "    new_age=age+50\n",
    "    return new_age\n",
    "\n",
    "age=float(input(\"enter your age: \"))\n",
    "\n",
    "if age<150:\n",
    "    print(age_foo(age))\n",
    "else:\n",
    "    print(\"how is that possible?\")\n"
   ]
  },
  {
   "cell_type": "code",
   "execution_count": 14,
   "metadata": {},
   "outputs": [
    {
     "name": "stdout",
     "output_type": "stream",
     "text": [
      "enter Celsius: -273.16\n",
      "The lowest possible temperature that physical matter can reach is -273.15 °C.\n"
     ]
    }
   ],
   "source": [
    "def Celsius_to_Fahrenheit(cel):\n",
    "    fah=cel*(9/5)+32\n",
    "    return fah\n",
    "\n",
    "cel=float(input(\"enter Celsius: \"))\n",
    "\n",
    "if cel>=-273.15:\n",
    "    print(Celsius_to_Fahrenheit(cel))\n",
    "else:\n",
    "    print(\"The lowest possible temperature that physical matter can reach is -273.15 °C.\")"
   ]
  },
  {
   "cell_type": "code",
   "execution_count": 7,
   "metadata": {},
   "outputs": [
    {
     "name": "stdout",
     "output_type": "stream",
     "text": [
      "10\n"
     ]
    }
   ],
   "source": [
    "money={\"saving_account\":200, \"checking_account\":100, \"under_bed\":[500,10,100]}\n",
    "print(money[\"under_bed\"][1])"
   ]
  },
  {
   "cell_type": "code",
   "execution_count": 15,
   "metadata": {},
   "outputs": [
    {
     "name": "stdout",
     "output_type": "stream",
     "text": [
      "50.0\n",
      "-4.0\n",
      "The lowest possible temperature that physical matter can reach is -273.15 °C.\n",
      "212.0\n"
     ]
    }
   ],
   "source": [
    "temperatures=[10,-20,-289,100]\n",
    "\n",
    "for cel in temperatures:\n",
    "    if cel>=-273.15:\n",
    "        fah=cel*(9/5)+32\n",
    "        print(fah)\n",
    "    else:\n",
    "        print(\"The lowest possible temperature that physical matter can reach is -273.15 °C.\")\n",
    "    "
   ]
  },
  {
   "cell_type": "code",
   "execution_count": 23,
   "metadata": {},
   "outputs": [
    {
     "name": "stdout",
     "output_type": "stream",
     "text": [
      "50.0\n",
      "-4.0\n",
      "The lowest possible temperature that physical matter can reach is -273.15 °C.\n",
      "212.0\n"
     ]
    }
   ],
   "source": [
    "temperatures=[10,-20,-289,100]\n",
    "\n",
    "def Celsius_to_Fahrenheit(cel):\n",
    "    if cel>=-273.15:\n",
    "        fah=cel*(9/5)+32\n",
    "        return fah\n",
    "    else:\n",
    "        return \"The lowest possible temperature that physical matter can reach is -273.15 °C.\"\n",
    "\n",
    "for i in temperatures:\n",
    "    print(Celsius_to_Fahrenheit(i))\n",
    "    "
   ]
  },
  {
   "cell_type": "markdown",
   "metadata": {},
   "source": [
    "# file handling"
   ]
  },
  {
   "cell_type": "code",
   "execution_count": 25,
   "metadata": {},
   "outputs": [
    {
     "name": "stdout",
     "output_type": "stream",
     "text": [
      "1.\n",
      "Line 1\n",
      "Line 2\n",
      "Line 3\n",
      "Line 4\n",
      "Line 5\n",
      "Line 6\n",
      "2.\n",
      "[]\n",
      "3.\n",
      "['Line 1\\n', 'Line 2\\n', 'Line 3\\n', 'Line 4\\n', 'Line 5\\n', 'Line 6']\n",
      "4.\n",
      "['Line 1', 'Line 2', 'Line 3', 'Line 4', 'Line 5', 'Line 6']\n",
      "['Line 1', 'Line 2', 'Line 3', 'Line 4', 'Line 5', 'Line 6']\n"
     ]
    }
   ],
   "source": [
    "file=open('example.txt')\n",
    "type(file)\n",
    "\n",
    "print('1.')\n",
    "content=file.read()\n",
    "print(content)\n",
    "\n",
    "print('2.')\n",
    "content=file.readlines()\n",
    "print(content)\n",
    "\n",
    "\n",
    "print('3.')\n",
    "'''let point back to the first line'''\n",
    "file.seek(0)\n",
    "content=file.readlines()\n",
    "print(content)\n",
    "\n",
    "\n",
    "print('4.')\n",
    "content1=[i.rstrip('\\n') for i in content]\n",
    "print(content1)\n",
    "\n",
    "file.close()\n",
    "print(content1)"
   ]
  },
  {
   "cell_type": "code",
   "execution_count": 22,
   "metadata": {},
   "outputs": [
    {
     "data": {
      "text/plain": [
       "6"
      ]
     },
     "execution_count": 22,
     "metadata": {},
     "output_type": "execute_result"
    }
   ],
   "source": [
    "file=open('example1.txt','w')\n",
    "file.write('Line 1')\n",
    "'''file won't save changes unless closed'''\n",
    "file.close()"
   ]
  },
  {
   "cell_type": "code",
   "execution_count": 24,
   "metadata": {
    "collapsed": true
   },
   "outputs": [],
   "source": [
    "file=open('example1.txt','w')\n",
    "file.write('Line 2')\n",
    "file.close()"
   ]
  },
  {
   "cell_type": "code",
   "execution_count": 26,
   "metadata": {
    "collapsed": true
   },
   "outputs": [],
   "source": [
    "file=open('example1.txt','w')\n",
    "file.write('Line 1\\n')\n",
    "file.write('Line 2')\n",
    "file.close()"
   ]
  },
  {
   "cell_type": "code",
   "execution_count": 28,
   "metadata": {
    "collapsed": true
   },
   "outputs": [],
   "source": [
    "file=open('example1.txt','w')\n",
    "l=[\"Line 1\",\"Line 2\",\"Line 3\"]\n",
    "for i in l:\n",
    "    file.write(i+'\\n')\n",
    "file.close()    "
   ]
  },
  {
   "cell_type": "code",
   "execution_count": 31,
   "metadata": {},
   "outputs": [],
   "source": [
    "file=open('example1.txt','a')\n",
    "file.write('Line 4')\n",
    "file.close()\n",
    "\n",
    "# open()\n",
    "#  r     : read \n",
    "#  r+    : read and write (pointer at the beginning of the file)\n",
    "#  w     : write (overwrite)\n",
    "#  w+    : write and read (overwrite)\n",
    "#  a     : append (pointer at the end of the file)\n",
    "#  a+    : append and read (pointer at the end of the file)\n"
   ]
  },
  {
   "cell_type": "markdown",
   "metadata": {},
   "source": [
    "### \"with\" statement"
   ]
  },
  {
   "cell_type": "code",
   "execution_count": 37,
   "metadata": {},
   "outputs": [
    {
     "name": "stdout",
     "output_type": "stream",
     "text": [
      "Line 1\n",
      "Line 2\n",
      "Line 3\n",
      "Line 4\n",
      "\n"
     ]
    }
   ],
   "source": [
    "with open('example1.txt','a+') as file:\n",
    "    file.seek(0)\n",
    "    content=file.read()\n",
    "    file.write('\\nLine 5')\n",
    "print(content)"
   ]
  },
  {
   "cell_type": "code",
   "execution_count": 42,
   "metadata": {},
   "outputs": [],
   "source": [
    "temperatures=[10,-20,-289,100]\n",
    "\n",
    "def Celsius_to_Fahrenheit(cel):\n",
    "    if cel>=-273.15:\n",
    "        fah=cel*(9/5)+32\n",
    "        return fah\n",
    "with open('C_to_F.txt','a+') as file:\n",
    "    for i in temperatures:\n",
    "        file.write(str(Celsius_to_Fahrenheit(i))+'\\n')"
   ]
  },
  {
   "cell_type": "markdown",
   "metadata": {},
   "source": [
    "## section 6"
   ]
  },
  {
   "cell_type": "code",
   "execution_count": null,
   "metadata": {
    "collapsed": true
   },
   "outputs": [],
   "source": []
  }
 ],
 "metadata": {
  "kernelspec": {
   "display_name": "Python 3",
   "language": "python",
   "name": "python3"
  },
  "language_info": {
   "codemirror_mode": {
    "name": "ipython",
    "version": 3
   },
   "file_extension": ".py",
   "mimetype": "text/x-python",
   "name": "python",
   "nbconvert_exporter": "python",
   "pygments_lexer": "ipython3",
   "version": "3.6.1"
  }
 },
 "nbformat": 4,
 "nbformat_minor": 2
}
